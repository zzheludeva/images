import cv2
import numpy as np
import matplotlib.pyplot as plt
from PIL import Image, ImageOps
from skimage import io

image_height = 400
image_width = 600
dpi = 100

url = f"https://placekitten.com/{image_width}/{image_height}"
img = io.imread(url)

b, g, r = cv2.split(img) # разделяем изображение на rgb-каналы
# можно ставить разные значения
b = b + 25
g = g + 250
r = r + 25

imgMerged = cv2.merge((b, g, r)) # объединяем каналы обратно
# размываем картинку по медиане
median = cv2.medianBlur(imgMerged, 13) # только нечётные числа!

plt.imshow(median), plt.title("вот такие пирожки з гадядгами:)")

plt.show()
