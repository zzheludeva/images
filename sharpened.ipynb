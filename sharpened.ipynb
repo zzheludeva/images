import cv2
import numpy as np
import matplotlib.pyplot as plt

from skimage import io

image_height = 400
image_width = 600
dpi = 100

url = f"https://placekitten.com/{image_width}/{image_height}"
img = io.imread(url)

filter = np.array([[-1, -1, -1],
                  [-1, 9, -1],
                  [-1, -1, -1]])

filter_new = np.array([[-1, -1, 3],
                       [-1, 1, 3],
                       [-1, -1, -1]])

sharp = cv2.filter2D(img, -1, filter)
new = cv2.filter2D(img, -1, filter_new)

plt.subplot(142), plt.imshow(img), plt.title('Original')
plt.subplot(143), plt.imshow(sharp), plt.title('Sharpened')
plt.subplot(144), plt.imshow(new), plt.title('Filtered')

plt.show()
