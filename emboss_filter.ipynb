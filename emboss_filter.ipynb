import cv2
import numpy as np
import matplotlib.pyplot as plt

from skimage import io

image_height = 400
image_width = 600
dpi = 100

url = f"https://placekitten.com/{image_width}/{image_height}"
img = io.imread(url)

filter = np.array([[-2, -1, 0], # создаём эмбосс-фильтр
                  [-1, 1, 1],
                  [0, 1, 2]])

emboss = cv2.filter2D(img, -1, filter) # применяем фильтр к изображению

plt.subplot(121), plt.imshow(img), plt.title('Original')
plt.subplot(122), plt.imshow(emboss), plt.title('Filtered')
plt.show()
